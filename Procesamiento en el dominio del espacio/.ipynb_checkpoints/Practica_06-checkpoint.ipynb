{
 "cells": [
  {
   "cell_type": "markdown",
   "metadata": {},
   "source": [
    "# PRACTICA 06\n",
    "# Integrantes\n",
    "\n",
    "1. Quevedo Paredes Carlos Enrique\n",
    "2. Querevalu Galan Sergio Andre\n",
    "3. Ticlia Villanueva Harold Michel\n",
    "4. Ulloa Pinillos Jose"
   ]
  },
  {
   "cell_type": "markdown",
   "metadata": {},
   "source": [
    "Ejercicio 1:\n",
    "Implemente el siguiente algoritmo para aumento de brillo en un entorno local de OpenCV."
   ]
  },
  {
   "cell_type": "code",
   "execution_count": null,
   "metadata": {},
   "outputs": [],
   "source": [
    "import cv2\n",
    "\n",
    "slider_max=100\n",
    "title_window= 'Brillo'\n",
    "\n",
    "def on_trackbar(val):\n",
    "  dst = srcl + val/255\n",
    "  cv2.imshow(title_window,dst)\n",
    "\n",
    "srcl = cv2.imread(\"31_cup.jpg\")/255\n",
    "\n",
    "try:\n",
    "  cv2.namedWindow(title_window)\n",
    "  trackbar_name = F\"Brillo\"\n",
    "  cv2.createTrackbar(trackbar_name, title_window, 0, slider_max, on_trackbar)\n",
    "  on_trackbar(0)\n",
    "  while True:\n",
    "    key = cv2.waitKey(1)\n",
    "    if key != -1:\n",
    "      break\n",
    "  cv2.destroyAllWindows()\n",
    "except:\n",
    "    cv2.destroyAllWindows()"
   ]
  },
  {
   "cell_type": "markdown",
   "metadata": {},
   "source": [
    "Ejercicio 2:\n",
    "Implemente un algoritmo que le permita tener un slider para controlar el nivel de suavizado de una imagen. El slider controlara el tamaño del filtro espacial que se aplicará. Y debe poderse seleccionar si se desea un filtro promedio."
   ]
  },
  {
   "cell_type": "code",
   "execution_count": 2,
   "metadata": {},
   "outputs": [],
   "source": [
    "import numpy as np\n",
    "import matplotlib.pyplot as plt\n",
    "import cv2\n",
    "from scipy import signal\n",
    "\n",
    "\n",
    "slider_max=21\n",
    "title_window= 'Suavizado'\n",
    "\n",
    "def on_trackbar(val):\n",
    "    kernel = np.ones((3+val,3+val))/(3+val)**2\n",
    "\n",
    "    out = signal.convolve2d(srcl, kernel, mode= \"same\")\n",
    "    cv2.imshow(title_window,out)\n",
    "\n",
    "srcl = cv2.imread(\"31_cup.jpg\")[:,:,0]/255\n",
    "\n",
    "\n",
    "cv2.namedWindow(title_window)\n",
    "trackbar_name = F\"Suavizado\"\n",
    "cv2.createTrackbar(trackbar_name, title_window, 0, slider_max, on_trackbar)\n",
    "on_trackbar(0)\n",
    "while True:\n",
    "    key = cv2.waitKey(1)\n",
    "    if key != -1:\n",
    "      break\n",
    "cv2.destroyAllWindows()\n"
   ]
  },
  {
   "cell_type": "markdown",
   "metadata": {},
   "source": [
    "Ejercicio 3:\n",
    "Implemente un algoritmo que le permita modificar la ganancia de un filtro de alto aumento. Si el slider es 0 debe verse el laplaciano, si es 1, la imagen debe quedar enfatizada. Si es mayor que 1 adicionalmente al enfatizado, la imagen debe tener mas brillo.\n"
   ]
  },
  {
   "cell_type": "code",
   "execution_count": 1,
   "metadata": {},
   "outputs": [],
   "source": [
    "import numpy as np\n",
    "import matplotlib.pyplot as plt\n",
    "import cv2\n",
    "from scipy import signal\n",
    "\n",
    "\n",
    "slider_max=3\n",
    "title_window= 'Laplaciano'\n",
    "\n",
    "def on_trackbar(A):\n",
    "    \n",
    "    kernel = np.array([[-1,-1,-1], [-1,A+8,-1], [-1,-1,-1]])\n",
    "\n",
    "    out = signal.convolve2d(srcl, kernel, mode= \"same\")\n",
    "    cv2.imshow(title_window,out)\n",
    "srcl = cv2.imread(\"31_cup.jpg\",0)/255\n",
    "\n",
    "\n",
    "cv2.namedWindow(title_window)\n",
    "trackbar_name = F\"Laplace\"\n",
    "cv2.createTrackbar(trackbar_name, title_window, 0, slider_max, on_trackbar)\n",
    "on_trackbar(0)\n",
    "while True:\n",
    "    key = cv2.waitKey(1)\n",
    "    if key != -1:\n",
    "      break\n",
    "cv2.destroyAllWindows()"
   ]
  },
  {
   "cell_type": "code",
   "execution_count": null,
   "metadata": {},
   "outputs": [],
   "source": []
  }
 ],
 "metadata": {
  "kernelspec": {
   "display_name": "Python 3",
   "language": "python",
   "name": "python3"
  },
  "language_info": {
   "codemirror_mode": {
    "name": "ipython",
    "version": 3
   },
   "file_extension": ".py",
   "mimetype": "text/x-python",
   "name": "python",
   "nbconvert_exporter": "python",
   "pygments_lexer": "ipython3",
   "version": "3.6.6"
  }
 },
 "nbformat": 4,
 "nbformat_minor": 2
}
