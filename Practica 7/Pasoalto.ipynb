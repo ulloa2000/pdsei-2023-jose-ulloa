{
 "cells": [
  {
   "cell_type": "code",
   "execution_count": 95,
   "id": "ef1ff048-adb8-429a-b0b3-965f17526c65",
   "metadata": {},
   "outputs": [],
   "source": [
    "import tkinter as tk\n",
    "from PIL import Image, ImageTk\n",
    "import numpy as np\n",
    "import cv2\n",
    "import matplotlib.pyplot as plt"
   ]
  },
  {
   "cell_type": "code",
   "execution_count": 116,
   "id": "fda85194-463d-4296-9746-9faf64bd50de",
   "metadata": {},
   "outputs": [],
   "source": [
    "def escalar_imagen(image, max_width):\n",
    "    original_height, original_width = image.shape\n",
    "    ratio = max_width / original_width\n",
    "    height = int(original_height * ratio)\n",
    "    resize=cv2.resize(image, (max_width, height))\n",
    "    return resize\n",
    "\n",
    "def mostrar_imagen(image, label, max_width):\n",
    "    imagen_resized = escalar_imagen(image, max_width)\n",
    "    imagen_tk = ImageTk.PhotoImage(image=Image.fromarray(imagen_resized))\n",
    "    label.config(image=imagen_tk)\n",
    "    label.image = imagen_tk\n",
    "\n",
    "def actualizar_filtro(valor):\n",
    "    fil, col = img.shape\n",
    "\n",
    "    img_padded = np.pad(img,((0,fil),(0,col)),'constant',constant_values=((0, 0),(0,0)))\n",
    "\n",
    "    f, c = np.ogrid[0:2*fil,0:2*col]\n",
    "\n",
    "    H = ((f-fil)**2 + (c-col)**2) <=  (int(valor)*fil/400)**2\n",
    "    H_pa_ideal = 1 - np.float32(H)\n",
    "    H_pb_ideal= (int(valor)-1)*H_pa_ideal\n",
    "    img_fft = np.fft.fft2(img_padded)\n",
    "    img_fft_shift = np.fft.fftshift(img_fft)\n",
    "\n",
    "    G_fft = img_fft_shift * H_pa_ideal\n",
    "\n",
    "    G_fft_ishift = np.fft.ifftshift(G_fft)\n",
    "    g = np.fft.ifft2(G_fft_ishift)\n",
    "    g_real = np.real(g)[0:fil, 0:col]\n",
    "    mostrar_imagen(H_pb_ideal/np.max(H_pb_ideal)*255, label_matriz, 300)\n",
    "    mostrar_imagen(g_real, label_g_real, 300)"
   ]
  },
  {
   "cell_type": "code",
   "execution_count": 119,
   "id": "04ec840b-e204-418f-a215-11f3fe9a8b8e",
   "metadata": {},
   "outputs": [
    {
     "name": "stderr",
     "output_type": "stream",
     "text": [
      "C:\\Users\\jose_\\AppData\\Local\\Temp\\ipykernel_16244\\112349775.py:32: RuntimeWarning: invalid value encountered in divide\n",
      "  mostrar_imagen(H_pb_ideal/np.max(H_pb_ideal)*255, label_matriz, 300)\n"
     ]
    }
   ],
   "source": [
    "image_path = \"imagen2.png\"  # Ruta de la imagen a mostrar\n",
    "img = cv2.imread(image_path, 0)\n",
    "\n",
    "ventana = tk.Tk()\n",
    "ventana.title(\"Mostrar Imagen y Matriz con Tkinter\")\n",
    "\n",
    "label_imagen = tk.Label(ventana)\n",
    "mostrar_imagen(img, label_imagen, 300)\n",
    "label_imagen.grid(row=0, column=0, padx=10, pady=10)\n",
    "\n",
    "label_matriz = tk.Label(ventana)\n",
    "label_matriz.grid(row=0, column=1, padx=10, pady=10)\n",
    "\n",
    "label_g_real = tk.Label(ventana)\n",
    "label_g_real.grid(row=0, column=2, padx=10, pady=10)\n",
    "\n",
    "slider_n = tk.Scale(ventana, from_=1, to=40, orient=tk.HORIZONTAL,\n",
    "                    label=\"Valor de n\", command=actualizar_filtro)\n",
    "slider_n.set(2)\n",
    "slider_n.grid(row=1, column=0, columnspan=3, pady=10)\n",
    "\n",
    "ventana.mainloop()"
   ]
  },
  {
   "cell_type": "code",
   "execution_count": null,
   "id": "57a8c30f-0f4d-4ad7-ac87-2d0e56306228",
   "metadata": {},
   "outputs": [],
   "source": []
  },
  {
   "cell_type": "code",
   "execution_count": null,
   "id": "f328c368-1ef0-4c2d-81da-a615bf23b2f4",
   "metadata": {},
   "outputs": [],
   "source": []
  }
 ],
 "metadata": {
  "kernelspec": {
   "display_name": "Python 3 (ipykernel)",
   "language": "python",
   "name": "python3"
  },
  "language_info": {
   "codemirror_mode": {
    "name": "ipython",
    "version": 3
   },
   "file_extension": ".py",
   "mimetype": "text/x-python",
   "name": "python",
   "nbconvert_exporter": "python",
   "pygments_lexer": "ipython3",
   "version": "3.11.5"
  }
 },
 "nbformat": 4,
 "nbformat_minor": 5
}
